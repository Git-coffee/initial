{
 "cells": [
  {
   "cell_type": "markdown",
   "metadata": {
    "chapterId": "AvE8nsbMy",
    "type": "chapter_name"
   },
   "source": [
    "# データの取得〜特徴量の確認"
   ]
  },
  {
   "cell_type": "markdown",
   "metadata": {
    "type": "table"
   },
   "source": [
    "- **[1.1 手書き数字の認識をしよう](#1.1-手書き数字の認識をしよう)**\n",
    "    - **[1.1.1 データセット](#1.1.1-データセット)**\n",
    "    - **[1.1.2 データ分析のワークフロー](#1.1.2-データ分析のワークフロー)**\n",
    "    - **[1.1.3 明らかにしたい問いや、課題の定義](#1.1.3-明らかにしたい問いや、課題の定義)**\n",
    "    - **[1.1.4 課題の概要](#1.1.4-ワークフローのゴール)**\n",
    "    <br><br>\n",
    "- **[1.2 ワークフロー](#1.2-ワークフロー)**\n",
    "    - **[1.2.1 訓練およびテストデータの取得](#1.2.1-訓練およびテストデータの取得)**\n",
    "    - **[1.2.2 データを取得する](#1.2.2-データを取得する)**\n",
    "    - **[1.2.3 データの性質を理解する](#1.2.3-データの性質を理解する)**\n",
    "    <br><br>\n",
    "- **[1.3 データの前処理](#1.3-データの前処理)**\n",
    "    - **[1.3.1 探索的データ分析（EDA）1](#1.3.1-探索的データ分析（EDA）1)**\n",
    "    - **[1.3.2 探索的データ分析（EDA）2](#1.3.2-探索的データ分析（EDA）2)**\n",
    "    - **[1.3.3 データの前処理](#1.3.3-データの前処理)**\n",
    "    <br><br>\n",
    "- **[1.4 予測モデルの作成](#1.4-予測モデルの作成)**\n",
    "    - **[1.4.1 バリデーションの作成](#1.4.1-バリデーションの作成)**\n",
    "    - **[1.4.2 ロジスティック回帰を用いた予測](#1.4.2-ロジスティック回帰による予測)**\n",
    "    - **[1.4.3 ランダムフォレストを用いた予測](#1.4.3-ランダムフォレストを用いた予測)**\n",
    "    <br><br>\n",
    "- **[1.5 まとめ問題（提出不要）](#1.5-まとめ問題（提出不要）)**\n",
    "<br><br>"
   ]
  },
  {
   "cell_type": "markdown",
   "metadata": {},
   "source": [
    "***"
   ]
  },
  {
   "cell_type": "markdown",
   "metadata": {
    "sectionId": "HqjgwKzwz2",
    "type": "section_name"
   },
   "source": [
    "## 1.1 手書き数字の認識をしよう"
   ]
  },
  {
   "cell_type": "markdown",
   "metadata": {
    "exerciseId": "TR8UmVhGTv",
    "important": false,
    "isDL": false,
    "timeoutSecs": 10,
    "type": "quiz_session_name"
   },
   "source": [
    "### 1.1.1 データセット"
   ]
  },
  {
   "cell_type": "markdown",
   "metadata": {
    "type": "description"
   },
   "source": [
    "本コースは、実際に手書き数字のデータセットを利用して、数字識別を行う実践的なコースです。<br>\n",
    "データ分析コンペであるkaggleで出題されている<a href='https://www.kaggle.com/c/digit-recognizer' target='_blank'>手書き数字の認識コンペ</a>を題材にしているので、kaggleでも通用する能力を付けていきましょう。<br>\n",
    "<br>\n",
    "\n",
    "この課題では、すでに以下のライブラリの利用方法を学習済みであることを前提として、進行していきます。<br>\n",
    "<br>\n",
    "\n",
    "1. Pandas\n",
    "2. Matplotlib\n",
    "3. 教師あり学習<br>\n",
    "<br>\n",
    "\n",
    "- **MNISTとは？**<br>\n",
    "MNIST（ \"Modified National Institute of Standards and Technology\"）は、コンピュータービジョンの事実上の「HelloWorld」データセットです。<br>\n",
    "このデータセットは、0から9までの手書き数字画像で構成されており、各画像は 28 $\\times$ 28 のグレー画像 (1チャンネル) となっています。<br>\n",
    "全画像70,000枚の内、訓練画像60,000枚、テスト画像10,000枚に分割されており、これらを利用してモデルの学習と推論を行います。<br>\n",
    "1999年のリリース以来、この古典的なデータセットは、分類アルゴリズムのベンチマークの基礎として機能してきました。<br>\n",
    "新しい機械学習技術が登場しても、MNISTは研究者と学習者の両方にとって信頼できるリソースであり続けます。<br>\n",
    "\n",
    "- **課題の概要**<br>\n",
    "この課題では、何万もの手書き画像のデータセットから数字を正しく識別します。<br>\n",
    "さまざまなアルゴリズムを試して、何がうまく機能し、テクニックがどのように比較されるかを直接学ぶことをお勧めします。<br>\n",
    "<br>\n",
    "\n",
    "以下がデータセットの詳細です。<br>\n",
    "\n",
    "* データファイルtrain.csvおよびtest.csvには、0から9までの手描きの数字のグレースケール画像が含まれています。\n",
    "\n",
    "各画像の高さは28ピクセル、幅は28ピクセルで、合計784ピクセルです。各ピクセルには単一のピクセル値が関連付けられており、そのピクセルの明るさまたは暗さを示します。数値が大きいほど、暗くなります。このピクセル値は、0から255までの整数です。\n",
    "\n",
    "トレーニングデータセット（train.csv）には、785列があります。「ラベル」と呼ばれる最初の列は、ユーザーが描いた数字です。残りの列には、関連する画像のピクセル値が含まれています。\n",
    "\n"
   ]
  },
  {
   "cell_type": "markdown",
   "metadata": {},
   "source": [
    "#### 問題"
   ]
  },
  {
   "cell_type": "markdown",
   "metadata": {
    "type": "question"
   },
   "source": [
    "- 本エクササイズの内容を理解しましたか？"
   ]
  },
  {
   "cell_type": "markdown",
   "metadata": {
    "type": "choices"
   },
   "source": [
    "- はい\n",
    "- いいえ"
   ]
  },
  {
   "cell_type": "markdown",
   "metadata": {},
   "source": [
    "#### ヒント"
   ]
  },
  {
   "cell_type": "markdown",
   "metadata": {
    "type": "hint"
   },
   "source": [
    "- 説明文をよく読んでください。"
   ]
  },
  {
   "cell_type": "markdown",
   "metadata": {},
   "source": [
    "#### 解答"
   ]
  },
  {
   "cell_type": "markdown",
   "metadata": {
    "type": "answer"
   },
   "source": [
    "- はい"
   ]
  },
  {
   "cell_type": "markdown",
   "metadata": {},
   "source": [
    "***"
   ]
  },
  {
   "cell_type": "markdown",
   "metadata": {
    "exerciseId": "QoCjUrbzCD",
    "important": false,
    "isDL": false,
    "timeoutSecs": 10,
    "type": "quiz_session_name"
   },
   "source": [
    "### 1.1.2 データ分析のワークフロー"
   ]
  },
  {
   "cell_type": "markdown",
   "metadata": {
    "type": "description"
   },
   "source": [
    "それでは、分析をはじめていきましょう。<br>\n",
    "一般的なデータ分析では、以下の**7つ**のステージで進めていきます。<br>\n",
    "\n",
    "1. 明らかにしたい問いや、問題の定義\n",
    "2. 訓練およびテストデータの取得\n",
    "3. データの整形、作成、クレンジング\n",
    "4. パターンの分析、特定、また探索的にデータを分析する\n",
    "5. 問題のモデル化、予測、解決\n",
    "6. 問題解決のステップと最終的な解決方法を視覚化、報告\n",
    "7. 結果の提出<br>\n",
    "<br>\n",
    "\n",
    "上記のフローが一般的な順序となっていますが、例外もあります。<br>\n",
    "\n",
    "- 複数のワークフローのステージを組み合わせることがあります。\n",
    "- 提示されたよりも早くステージに到達することもあります。また、同じステージを何度も体験することもあります。\n",
    "- ステージをスキップすることもあります。\n",
    "- 前のステージに戻ることもあります。<br>\n",
    "<br>\n",
    "\n",
    "では、上記7つのワークフローに沿って進めていきましょう。"
   ]
  },
  {
   "cell_type": "markdown",
   "metadata": {},
   "source": [
    "#### 問題"
   ]
  },
  {
   "cell_type": "markdown",
   "metadata": {
    "type": "question"
   },
   "source": [
    "- 本エクササイズの内容を理解しましたか？"
   ]
  },
  {
   "cell_type": "markdown",
   "metadata": {
    "type": "choices"
   },
   "source": [
    "- はい\n",
    "- いいえ"
   ]
  },
  {
   "cell_type": "markdown",
   "metadata": {},
   "source": [
    "#### ヒント"
   ]
  },
  {
   "cell_type": "markdown",
   "metadata": {
    "type": "hint"
   },
   "source": [
    "- 説明文をよく読んでください。"
   ]
  },
  {
   "cell_type": "markdown",
   "metadata": {},
   "source": [
    "#### 解答"
   ]
  },
  {
   "cell_type": "markdown",
   "metadata": {
    "type": "answer"
   },
   "source": [
    "- はい"
   ]
  },
  {
   "cell_type": "markdown",
   "metadata": {},
   "source": [
    "***"
   ]
  },
  {
   "cell_type": "markdown",
   "metadata": {
    "exerciseId": "1XaZ72Hfg7",
    "important": false,
    "isDL": false,
    "timeoutSecs": 10,
    "type": "quiz_session_name"
   },
   "source": [
    "### 1.1.3 明らかにしたい問いや、課題の定義"
   ]
  },
  {
   "cell_type": "markdown",
   "metadata": {
    "type": "description"
   },
   "source": [
    "kaggleのようなコンペでは、解決すべき問題を定義し、問題を解決するためのモデルを訓練するデータセットを提供し、テストデータセットに対してモデル結果をテストします。<br>\n",
    "今回の問題は、kaggleだと以下のように定義されています。<br>\n",
    "<br>\n",
    "\n",
    "- 訓練データセットには画像が「0」から「9」のどの数字か（答え）が付与されており、このデータセットを使って画像の数字を予測するモデルを作成することができます。\n",
    "- テストデータセットには画像の数字は付与されていません。\n",
    "- テストデータセットに先の数字予測モデルを適用すれば、画像の数字を予測することができます。\n",
    "\n",
    "<br>\n",
    "\n",
    "今回の課題は、訓練データから画像の数字を予測するモデルを作成し、テストデータにこのモデルを適用しての画像の数字を予測することを、課題としてすすめていきます。"
   ]
  },
  {
   "cell_type": "markdown",
   "metadata": {},
   "source": [
    "#### 問題"
   ]
  },
  {
   "cell_type": "markdown",
   "metadata": {
    "type": "question"
   },
   "source": [
    "- 本エクササイズの内容を理解しましたか？"
   ]
  },
  {
   "cell_type": "markdown",
   "metadata": {
    "type": "choices"
   },
   "source": [
    "- はい\n",
    "- いいえ"
   ]
  },
  {
   "cell_type": "markdown",
   "metadata": {},
   "source": [
    "#### ヒント"
   ]
  },
  {
   "cell_type": "markdown",
   "metadata": {
    "type": "hint"
   },
   "source": [
    "- 説明文をよく読んでください。"
   ]
  },
  {
   "cell_type": "markdown",
   "metadata": {},
   "source": [
    "#### 解答"
   ]
  },
  {
   "cell_type": "markdown",
   "metadata": {
    "type": "answer"
   },
   "source": [
    "- はい"
   ]
  },
  {
   "cell_type": "markdown",
   "metadata": {},
   "source": [
    "***"
   ]
  },
  {
   "cell_type": "markdown",
   "metadata": {
    "exerciseId": "D3zElMu5Mn",
    "important": false,
    "isDL": false,
    "timeoutSecs": 10,
    "type": "quiz_session_name"
   },
   "source": [
    "### 1.1.4 ワークフローのゴール"
   ]
  },
  {
   "cell_type": "markdown",
   "metadata": {
    "type": "description"
   },
   "source": [
    "データ分析のワークフローは、7つの主要な目標を達成していきます。<br>\n",
    "\n",
    "**①分類(Classifying)**<br>\n",
    "データをグループへ分類します。<br>\n",
    "グループは同じ性質を持つデータの集合です。<br>\n",
    "データを個々に確認するよりもまずグループを確認すれば、``データの性質を把握``することにかかる時間を短縮できます。<br>\n",
    "<br>\n",
    "\n",
    "**②相関(Correlating)**<br>\n",
    "各変数が結果に対してどの程度影響力を持っているか（結果を左右するのか）また、変数間にどの程度関係性（共線性）があるのかを調べます。<br>\n",
    "変数とは、測定可能なデータを指します。<br>\n",
    "また、変数は``特徴量``とも呼び、結果を左右する要因です。<br>\n",
    "<br>\n",
    "\n",
    "**③変換(Converting)**<br>\n",
    "モデルを作成するためには、``使用するアルゴリズムの種類に応じてデータを変換``する必要があります。<br>\n",
    "アルゴリズムには、数値のみで構成されたデータセットしか受け付けられないものもあれば、数値とカテゴリ値（文字列）が混ざったデータセットでも受け付けられるものもあります。<br>\n",
    "例えば前者の場合、カテゴリ値を二値または多値に変換することはよくあります。<br>\n",
    "<br>\n",
    "\n",
    "**④補完（Completing）**<br>\n",
    "データ変換の過程において、データセットに`欠損値`が含まれていれば、適切な方法で補完しなければなりません。<br>\n",
    "例えば、変数の``平均値``で補完する、`0（ゼロ）`で補完する、前後の値で補完するなどが挙げられます。<br>\n",
    "また、欠損値があまりにも多い変数は除外してしまうという手もあります。<br>\n",
    "これらの処理を適切に行えるかどうかが、この後に作成する``モデルの精度に影響``します。<br>\n",
    "<br>\n",
    "\n",
    "**⑤修正(Modifying)**<br>\n",
    "データ変換の過程において、データセットに`外れ値`（異常値）が含まれていれば、適切な方法で修正しなければなりません。<br>\n",
    "欠損値の補完と同じ方法で修正することもできますが、データの件数に対し外れ値の件数がごく少数であれば、該当するデータを除外してもよいでしょう。<br>\n",
    "また、外れ値があまりにも多い変数は除外してしまうという手もあります。<br>\n",
    "これらの処理を適切に行えるかどうかが、この後に作成する``モデルの精度``に影響します。<br>\n",
    "<br>\n",
    "\n",
    "**⑥作成(Creating)**<br>\n",
    "既存の変数から、または既存の変数を組合せて新たな変数を作成することも有効な手段です。<br>\n",
    "例えば、`相関が強い変数のペアを一つにまとめてしまう`ことが挙げられます。<br>\n",
    "この処理を行うことで、モデル作成にかかる時間を短縮できる可能性があります。<br>\n",
    "<br>\n",
    "\n",
    "**⑦グラフ作成(Charting)**\n",
    "グラフを使った視覚的な表現は、`分析結果を効率的に解釈`するための有効な手段です。<br>\n",
    "また、解決したい問題に対する意思決定を促す可能性も秘めています。"
   ]
  },
  {
   "cell_type": "markdown",
   "metadata": {},
   "source": [
    "#### 問題"
   ]
  },
  {
   "cell_type": "markdown",
   "metadata": {
    "type": "question"
   },
   "source": [
    "- 本エクササイズの内容を理解しましたか？"
   ]
  },
  {
   "cell_type": "markdown",
   "metadata": {
    "type": "choices"
   },
   "source": [
    "- はい\n",
    "- いいえ"
   ]
  },
  {
   "cell_type": "markdown",
   "metadata": {},
   "source": [
    "#### ヒント"
   ]
  },
  {
   "cell_type": "markdown",
   "metadata": {
    "type": "hint"
   },
   "source": [
    "- 説明文をよく読んでください。"
   ]
  },
  {
   "cell_type": "markdown",
   "metadata": {},
   "source": [
    "#### 解答"
   ]
  },
  {
   "cell_type": "markdown",
   "metadata": {
    "type": "answer"
   },
   "source": [
    "- はい"
   ]
  },
  {
   "cell_type": "markdown",
   "metadata": {},
   "source": [
    "***"
   ]
  },
  {
   "cell_type": "markdown",
   "metadata": {
    "sectionId": "sKJ_eL_NT_",
    "type": "section_name"
   },
   "source": [
    "## 1.2 ワークフロー"
   ]
  },
  {
   "cell_type": "markdown",
   "metadata": {
    "exerciseId": "pb1sBwU0k8",
    "important": false,
    "isDL": false,
    "timeoutSecs": 10,
    "type": "quiz_session_name"
   },
   "source": [
    "### 1.2.1 訓練およびテストデータの取得"
   ]
  },
  {
   "cell_type": "markdown",
   "metadata": {
    "type": "description"
   },
   "source": [
    "それでは、さっそくデータを取得しましょう。<br>\n",
    "本コースはkaggleのnotebook上でコードを実行します。<br>\n",
    "<a href='https://www.kaggle.com/c/digit-recognizer' target='_blank'>kaggleの手書き数字の認識コンペ</a>をへアクセスしていただき、notebookを開いてコードを実行してください。<br>\n",
    "<br>\n",
    "\n",
    "最初に各種必要なライブラリをインポートします。<br>\n",
    "以下のようなコマンドでインポートします。<br>\n",
    "\n",
    "```python\n",
    "import sklearn\n",
    "```\n",
    "<br>\n",
    "\n",
    "もしライブラリがインストールされていない場合は、以下のようなコマンドでインストールします<br>\n",
    "\n",
    "```python\n",
    "!pip3 install パッケージ名\n",
    "#最初に!コマンドをつけると、UNIXコマンドを実行することができます。\n",
    "```\n",
    "<br>\n",
    "\n",
    "sklearnモジュールがインストールされていない場合は、以下のようにインストールしてください。<br>\n",
    "\n",
    "```python\n",
    "!pip3 install sklearn\n",
    "```\n",
    "<br>\n",
    "\n",
    "※Kaggleでnotebookを立ち上げると下記のプログラムが表示されているので実行してください。\n",
    "\n",
    "\n",
    "<br>\n",
    "\n",
    "```Python\n",
    "# This Python 3 environment comes with many helpful analytics libraries installed\n",
    "# It is defined by the kaggle/python Docker image: https://github.com/kaggle/docker-python\n",
    "# For example, here's several helpful packages to load\n",
    "\n",
    "import numpy as np # linear algebra\n",
    "import pandas as pd # data processing, CSV file I/O (e.g. pd.read_csv)\n",
    "\n",
    "# Input data files are available in the read-only \"../input/\" directory\n",
    "# For example, running this (by clicking run or pressing Shift+Enter) will list all files under the input directory\n",
    "\n",
    "import os\n",
    "for dirname, _, filenames in os.walk('/kaggle/input'):\n",
    "    for filename in filenames:\n",
    "        print(os.path.join(dirname, filename))\n",
    "\n",
    "# You can write up to 5GB to the current directory (/kaggle/working/) that gets preserved as output when you create a version using \"Save & Run All\" \n",
    "# You can also write temporary files to /kaggle/temp/, but they won't be saved outside of the current session\n",
    "```\n"
   ]
  },
  {
   "cell_type": "markdown",
   "metadata": {},
   "source": [
    "#### 問題"
   ]
  },
  {
   "cell_type": "markdown",
   "metadata": {
    "type": "question"
   },
   "source": [
    "下記のコードは穴埋めになっています。<br>\n",
    "必要なコードを追記し、[kaggle](https://www.kaggle.com/c/digit-recognizer/notebooks)上で実行できましたか？<br>\n",
    "\n",
    "```python\n",
    "# pandasをインポートしてください\n",
    "\n",
    "\n",
    "# numpyをインポートしてください\n",
    "\n",
    "\n",
    "# matplotlibをインポートしてください\n",
    "\n",
    "\n",
    "# sklearnをインポートしてください\n",
    "\n",
    "```"
   ]
  },
  {
   "cell_type": "markdown",
   "metadata": {
    "type": "choices"
   },
   "source": [
    "- はい\n",
    "- いいえ"
   ]
  },
  {
   "cell_type": "markdown",
   "metadata": {},
   "source": [
    "#### ヒント"
   ]
  },
  {
   "cell_type": "markdown",
   "metadata": {
    "type": "hint"
   },
   "source": [
    "- 説明文をよく読んでください。\n",
    "- わからない場合のみ、以下をお読みください。\n",
    "\n",
    "```python\n",
    "# pandasをインポートしてください\n",
    "import pandas\n",
    "\n",
    "# numpyをインポートしてください\n",
    "import numpy\n",
    "\n",
    "# matplotlibをインポートしてください\n",
    "import matplotlib\n",
    "\n",
    "# sklearnをインポートしてください\n",
    "import sklearn\n",
    "```"
   ]
  },
  {
   "cell_type": "markdown",
   "metadata": {},
   "source": [
    "#### 解答"
   ]
  },
  {
   "cell_type": "markdown",
   "metadata": {
    "type": "answer"
   },
   "source": [
    "- はい"
   ]
  },
  {
   "cell_type": "markdown",
   "metadata": {
    "exerciseId": "u3UDgXEV5R",
    "important": false,
    "isDL": false,
    "timeoutSecs": 10,
    "type": "quiz_session_name"
   },
   "source": [
    "### 1.2.2 データを取得する"
   ]
  },
  {
   "cell_type": "markdown",
   "metadata": {
    "type": "description"
   },
   "source": [
    "Pandasライブラリはデータの変換などの作業に役立ちます。<br>\n",
    "このライブラリを使用して訓練データセットとテストデータセットをデータフレーム形式で取得します。<br>\n",
    "<br>\n",
    "\n",
    "まず下記のコードを実行すると、必要なデータセットの一覧が表示されます。<br>\n",
    "\n",
    "```Python\n",
    "import os\n",
    "for dirname, _, filenames in os.walk('/kaggle/input'):\n",
    "    for filename in filenames:\n",
    "        print(os.path.join(dirname, filename))\n",
    "\n",
    "\n",
    "\n",
    "# ファイル表示プログラムの実行結果\n",
    "/kaggle/input/digit-recognizer/sample_submission.csv\n",
    "/kaggle/input/digit-recognizer/train.csv\n",
    "/kaggle/input/digit-recognizer/test.csv\n",
    "```\n",
    "<br>"
   ]
  },
  {
   "cell_type": "markdown",
   "metadata": {},
   "source": [
    "#### 問題"
   ]
  },
  {
   "cell_type": "markdown",
   "metadata": {
    "type": "question"
   },
   "source": [
    "下記のコードは穴埋めになっています。<br>\n",
    "必要なコードを追記し、[kaggle](https://www.kaggle.com/c/digit-recognizer/notebooks)上で実行できましたか？<br>\n",
    "\n",
    "```Python\n",
    "import pandas as pd\n",
    "#1. train_dfとして、/kaggle/input/digit-recognizer/train.csvをpandasで読み込みます\n",
    "train_df = \n",
    "\n",
    "#2. test_dfとして、/kaggle/input/digit-recognizer/test.csvをpandasで読み込みます\n",
    "test_df = \n",
    "\n",
    "```"
   ]
  },
  {
   "cell_type": "markdown",
   "metadata": {
    "type": "choices"
   },
   "source": [
    "- はい\n",
    "- いいえ"
   ]
  },
  {
   "cell_type": "markdown",
   "metadata": {},
   "source": [
    "#### ヒント"
   ]
  },
  {
   "cell_type": "markdown",
   "metadata": {
    "type": "hint"
   },
   "source": [
    "- 説明文をよく読んでください。\n",
    "- わからない場合のみ、以下をお読みください。\n",
    "\n",
    "```Python\n",
    "import pandas as pd\n",
    "#1. train_dfとして、/kaggle/input/digit-recognizer/train.csvをpandasで読み込みます\n",
    "train_df = pd.read_csv('../input/digit-recognizer/train.csv')\n",
    "\n",
    "#2. test_dfとして、/kaggle/input/digit-recognizer/test.csvをpandasで読み込みます\n",
    "test_df = pd.read_csv('../input/digit-recognizer/test.csv')\n",
    "\n",
    "```"
   ]
  },
  {
   "cell_type": "markdown",
   "metadata": {},
   "source": [
    "#### 解答"
   ]
  },
  {
   "cell_type": "markdown",
   "metadata": {
    "type": "answer"
   },
   "source": [
    "- はい"
   ]
  },
  {
   "cell_type": "markdown",
   "metadata": {
    "exerciseId": "ryTB61rurB",
    "important": false,
    "isDL": false,
    "timeoutSecs": 10,
    "type": "quiz_session_name"
   },
   "source": [
    "### 1.2.3 データの性質を理解する"
   ]
  },
  {
   "cell_type": "markdown",
   "metadata": {
    "type": "description"
   },
   "source": [
    "Pandasはまた、データの性質を理解することに役立ちます。このことは、どのようにデータを変換・補完・修正していくか、つまり、前処理を行うかの方針を立てるために必要な作業です。<br>\n",
    "- **どの特徴量がデータセットで使えるか**<br>\n",
    "Pandasを使って、どのような変数（特徴量）が存在するのか、見てみましょう。プログラミングにおける変数と区別するために、以降、分析における変数は「特徴量」と記載します。まずはtrain_dfの列名を確認してみましょう。データセットの列名が特徴量です。\n",
    "<br><br>\n",
    "- **どのようなデータが入っているか**<br>\n",
    "では、train_dfのデータの中身を確認してみましょう。すべて見ると大変なので、先頭5行と、後ろから5行を見てみましょう。"
   ]
  },
  {
   "cell_type": "markdown",
   "metadata": {},
   "source": [
    "#### 問題"
   ]
  },
  {
   "cell_type": "markdown",
   "metadata": {
    "type": "question"
   },
   "source": [
    "下記のコードは穴埋めになっています。<br>\n",
    "必要なコードを追記し、<a href='https://www.kaggle.com/c/digit-recognizer' target='_blank'>kaggle</a>上で実行できましたか？<br>\n",
    "\n",
    "```Python\n",
    "from IPython.core.interactiveshell import InteractiveShell\n",
    "InteractiveShell.ast_node_interactivity = \"all\"\n",
    "\n",
    "#1. train_dfの特徴量（＝列名）を出力してください。\n",
    "\n",
    "\n",
    "#2. train_dfの最初から5行を出力してください。\n",
    "\n",
    "\n",
    "#3. train_dfの後ろから5行を出力してください。\n",
    "\n",
    "\n",
    "#4. test_dfの最初から5行を出力してください。\n",
    "\n",
    "\n",
    "#5. test_dfの後ろから5行を出力してください。\n",
    "\n",
    "```"
   ]
  },
  {
   "cell_type": "markdown",
   "metadata": {
    "type": "choices"
   },
   "source": [
    "- はい\n",
    "- いいえ"
   ]
  },
  {
   "cell_type": "markdown",
   "metadata": {},
   "source": [
    "#### ヒント"
   ]
  },
  {
   "cell_type": "markdown",
   "metadata": {
    "type": "hint"
   },
   "source": [
    "- Pandasで列ラベル（columns）の値を取得します。\n",
    "- 先頭はhead()、後ろはtail()で取得できます。\n",
    "- わからない場合のみ、以下をお読みください。<br>\n",
    "<br>\n",
    "\n",
    "```Python\n",
    "from IPython.core.interactiveshell import InteractiveShell\n",
    "InteractiveShell.ast_node_interactivity = \"all\"\n",
    "\n",
    "#1. train_dfの特徴量（＝列名）を出力してください。\n",
    "print(train_df.columns.values)\n",
    "\n",
    "#2. train_dfの最初から5行を出力してください。\n",
    "print(train_df.head(5))\n",
    "\n",
    "#3. train_dfの後ろから5行を出力してください。\n",
    "print(train_df.tail(5))\n",
    "\n",
    "#4. test_dfの最初から5行を出力してください。\n",
    "print(test_df.head(5))\n",
    "\n",
    "#5. test_dfの後ろから5行を出力してください。\n",
    "print(test_df.tail(5))\n",
    "```"
   ]
  },
  {
   "cell_type": "markdown",
   "metadata": {},
   "source": [
    "#### 解答"
   ]
  },
  {
   "cell_type": "markdown",
   "metadata": {
    "type": "answer"
   },
   "source": [
    "- はい"
   ]
  },
  {
   "cell_type": "markdown",
   "metadata": {
    "sectionId": "e4QORIMGi4",
    "type": "section_name"
   },
   "source": [
    "## 1.3 データの前処理"
   ]
  },
  {
   "cell_type": "markdown",
   "metadata": {
    "exerciseId": "ZC93Xh1duH",
    "important": false,
    "isDL": false,
    "timeoutSecs": 10,
    "type": "quiz_session_name"
   },
   "source": [
    "### 1.3.1　探索的データ分析（EDA）1 "
   ]
  },
  {
   "cell_type": "markdown",
   "metadata": {
    "type": "description"
   },
   "source": [
    "ここまでの作業で特徴量の形や値を確認できました。ここから更に、データの集計や可視化を行いデータの理解を深めていきましょう。<br>\n",
    "\n",
    "今回のデータは,「０」から「9」までの多クラス分類の問題でした。\n",
    "\n",
    "まず初めに、今回の訓練データに入っている、各正解ラベルの数を確認しましょう。\n"
   ]
  },
  {
   "cell_type": "markdown",
   "metadata": {},
   "source": [
    "#### 問題"
   ]
  },
  {
   "cell_type": "markdown",
   "metadata": {
    "type": "question"
   },
   "source": [
    "下記のコードは穴埋めになっています。<br>\n",
    "必要なコードを追記し、<a href='https://www.kaggle.com/c/digit-recognizer' target='_blank'>kaggle</a>上で実行できましたか？<br>\n",
    "\n",
    "```Python\n",
    "#1 train_dfのlabelに含まれている、各正解ラベルの数を集計してください\n",
    "```"
   ]
  },
  {
   "cell_type": "markdown",
   "metadata": {
    "type": "choices"
   },
   "source": [
    "- はい\n",
    "- いいえ"
   ]
  },
  {
   "cell_type": "markdown",
   "metadata": {},
   "source": [
    "#### ヒント"
   ]
  },
  {
   "cell_type": "markdown",
   "metadata": {
    "type": "hint"
   },
   "source": [
    "- pandas.DataFrame.groupby¶<br>\n",
    "https://pandas.pydata.org/pandas-docs/stable/reference/api/pandas.DataFrame.groupby.html\n",
    "\n",
    "- わからない場合のみ、以下をお読みください。\n",
    "\n",
    "```Python\n",
    "#1.\n",
    "# 回答例 1\n",
    "train_df['label'].value_counts()\n",
    "# 回答例 2\n",
    "train_df.groupby('label')['pixel1'].agg('count')\n",
    "```"
   ]
  },
  {
   "cell_type": "markdown",
   "metadata": {},
   "source": [
    "#### 解答"
   ]
  },
  {
   "cell_type": "markdown",
   "metadata": {
    "type": "answer"
   },
   "source": [
    "- はい"
   ]
  },
  {
   "cell_type": "markdown",
   "metadata": {},
   "source": [
    "***"
   ]
  },
  {
   "cell_type": "markdown",
   "metadata": {
    "exerciseId": "oOCE0B1w8f",
    "important": false,
    "isDL": false,
    "timeoutSecs": 10,
    "type": "quiz_session_name"
   },
   "source": [
    "### 1.3.2 探索的データ分析（EDA）2"
   ]
  },
  {
   "cell_type": "markdown",
   "metadata": {
    "type": "description"
   },
   "source": [
    "次に、データ内の実際のpixelを元に、画像を表示してみましょう。"
   ]
  },
  {
   "cell_type": "markdown",
   "metadata": {},
   "source": [
    "#### 問題"
   ]
  },
  {
   "cell_type": "markdown",
   "metadata": {
    "type": "question"
   },
   "source": [
    "下記のコードは穴埋めになっています。<br>\n",
    "必要なコードを追記し、<a href='https://www.kaggle.com/c/digit-recognizer' target='_blank'>kaggle</a>上で実行できましたか？<br>\n",
    "\n",
    "```Python\n",
    "import matplotlib.pyplot as plt\n",
    "# 表示したい画像の行番号\n",
    "i = 0 \n",
    "# train_dfからpixel情報の切り出し　(注) 1列目には正解ラベルが入っています\n",
    "tmp_img =  \n",
    "# numpy arrayへの変換\n",
    "tmp_img = tmp_img.values \n",
    "# shapeを784から28x28の2次元画像に変換\n",
    "tmp_img = \n",
    "# labelを表示\n",
    "print('label', train_df['label'][i]) \n",
    "# 値を表示\n",
    "print(tmp_img) \n",
    "# 画像として表示\n",
    "plt.imshow(tmp_img, cmap='gray') \n",
    "plt.show()\n",
    "\n",
    "```"
   ]
  },
  {
   "cell_type": "markdown",
   "metadata": {
    "type": "choices"
   },
   "source": [
    "- はい\n",
    "- いいえ"
   ]
  },
  {
   "cell_type": "markdown",
   "metadata": {},
   "source": [
    "#### ヒント"
   ]
  },
  {
   "cell_type": "markdown",
   "metadata": {
    "type": "hint"
   },
   "source": [
    "- わからない場合のみ、以下をお読みください。\n",
    "\n",
    "```Python\n",
    "import matplotlib.pyplot as plt\n",
    "# 表示したい画像の行番号\n",
    "i = 0 \n",
    "# train_dfからpixel情報の切り出し\n",
    "tmp_img = train_df.iloc[i, 1:]\n",
    "# numpy arrayへの変換\n",
    "tmp_img = tmp_img.values \n",
    "# shapeを784から28x28の2次元画像に変換\n",
    "tmp_img = tmp_img.reshape([28, 28]) \n",
    "# labelを表示\n",
    "print('label', train_df['label'][i]) \n",
    "# 値を表示\n",
    "print(tmp_img) \n",
    "# 画像として表示\n",
    "plt.imshow(tmp_img, cmap='gray') \n",
    "plt.show()\n",
    "```"
   ]
  },
  {
   "cell_type": "markdown",
   "metadata": {},
   "source": [
    "#### 解答"
   ]
  },
  {
   "cell_type": "markdown",
   "metadata": {
    "type": "answer"
   },
   "source": [
    "- はい"
   ]
  },
  {
   "cell_type": "markdown",
   "metadata": {},
   "source": [
    "***"
   ]
  },
  {
   "cell_type": "markdown",
   "metadata": {
    "exerciseId": "-uL8l57nLo",
    "important": false,
    "isDL": false,
    "timeoutSecs": 10,
    "type": "quiz_session_name"
   },
   "source": [
    "### 1.3.3 データの前処理"
   ]
  },
  {
   "cell_type": "markdown",
   "metadata": {
    "type": "description"
   },
   "source": [
    "ここまでのEDAで、今回用いるデータの理解が深まったかと思います。\n",
    "\n",
    "次に、実際にモデルを作成するための前処理を行ます。\n",
    "\n",
    "前処理を行うことで、モデル性能の向上や、学習の高速化などが期待できます。\n",
    "\n",
    "ここでは、簡単な前処理として、データの正規化(normalization)を行ます。\n",
    "\n",
    "正規化とはデータを特定の範囲に変換する処理を指します。\n",
    "\n",
    "今回は、0~1の範囲で正則化を行ます。\n",
    "\n",
    "正規化の他にも様々な前処理の方法があります。是非調べてみてください。"
   ]
  },
  {
   "cell_type": "markdown",
   "metadata": {},
   "source": [
    "#### 問題"
   ]
  },
  {
   "cell_type": "markdown",
   "metadata": {
    "type": "question"
   },
   "source": [
    "下記のコードは穴埋めになっています。<br>\n",
    "必要なコードを追記し、<a href='https://www.kaggle.com/c/digit-recognizer' target='_blank'>kaggle</a>上で実行できましたか？<br>\n",
    "\n",
    "```Python\n",
    "\n",
    "# 説明変数となる列、目的変数となる列を指定する\n",
    "# 説明変数: label以外の列\n",
    "# 目的変数: label\n",
    "\n",
    "col_X = train_df.columns.values[1:].tolist() \n",
    "col_Y = 'label' \n",
    "print('col_X', col_X)\n",
    "print('col_Y', col_Y)\n",
    "\n",
    "# train と testを結合\n",
    "# trainとtestを結合\n",
    "traintest_df = pd.concat([train_df, test_df]) \n",
    "# indexを割り当て直す\n",
    "traintest_df = traintest_df.reset_index(drop=True) \n",
    "print(traintest_df.shape)\n",
    "\n",
    "# データの取違防止のためidの行を作成\n",
    "# 行番号をidとして割り当てる\n",
    "traintest_df['id'] = np.arange(len(traintest_df)) \n",
    "# 列の並び替え\n",
    "traintest_df = traintest_df[['id', col_Y] + col_X] \n",
    "traintest_df.head()\n",
    "\n",
    "# 正規化\n",
    "# 値の範囲を0-255から0-1に変換\n",
    "traintest_df.loc[:,col_X] = \n",
    "traintest_df.head()\n",
    "\n",
    "# trainとtestを再分割\n",
    "train_df = traintest_df.iloc[:len(train_df)]\n",
    "train_df.loc[:,col_Y] = train_df[col_Y].values.astype(int)\n",
    "test_df = traintest_df.iloc[len(train_df):].reset_index(drop=True)\n",
    "train_df.head()\n",
    "\n",
    "```"
   ]
  },
  {
   "cell_type": "markdown",
   "metadata": {
    "type": "choices"
   },
   "source": [
    "- はい\n",
    "- いいえ"
   ]
  },
  {
   "cell_type": "markdown",
   "metadata": {},
   "source": [
    "#### ヒント"
   ]
  },
  {
   "cell_type": "markdown",
   "metadata": {
    "type": "hint"
   },
   "source": [
    "- わからない場合のみ、以下をお読みください。\n",
    "\n",
    "```Python\n",
    "# 説明変数となる列、目的変数となる列を指定する\n",
    "# 説明変数: label以外の列\n",
    "# 目的変数: label\n",
    "\n",
    "col_X = train_df.columns.values[1:].tolist() \n",
    "col_Y = 'label' \n",
    "print('col_X', col_X)\n",
    "print('col_Y', col_Y)\n",
    "\n",
    "# train と testを結合\n",
    "# trainとtestを結合\n",
    "traintest_df = pd.concat([train_df, test_df]) \n",
    "# indexを割り当て直す\n",
    "traintest_df = traintest_df.reset_index(drop=True) \n",
    "print(traintest_df.shape)\n",
    "\n",
    "# データの取違防止のためidの行を作成\n",
    "# 行番号をidとして割り当てる\n",
    "traintest_df['id'] = np.arange(len(traintest_df)) \n",
    "# 列の並び替え\n",
    "traintest_df = traintest_df[['id', col_Y] + col_X] \n",
    "traintest_df.head()\n",
    "\n",
    "# 正規化\n",
    "# 値の範囲を0-255から0-1に変換\n",
    "traintest_df.loc[:,col_X] = traintest_df.loc[:,col_X].values/255\n",
    "traintest_df.head()\n",
    "\n",
    "# trainとtestを再分割\n",
    "train_df = traintest_df.iloc[:len(train_df)]\n",
    "train_df.loc[:,col_Y] = train_df[col_Y].values.astype(int)\n",
    "test_df = traintest_df.iloc[len(train_df):].reset_index(drop=True)\n",
    "train_df.head()\n",
    "```"
   ]
  },
  {
   "cell_type": "markdown",
   "metadata": {},
   "source": [
    "#### 解答"
   ]
  },
  {
   "cell_type": "markdown",
   "metadata": {
    "type": "answer"
   },
   "source": [
    "- はい"
   ]
  },
  {
   "cell_type": "markdown",
   "metadata": {},
   "source": [
    "***"
   ]
  },
  {
   "cell_type": "markdown",
   "metadata": {
    "sectionId": "X0kRW3eU6x",
    "type": "section_name"
   },
   "source": [
    "##  1.4 予測モデルの作成"
   ]
  },
  {
   "cell_type": "markdown",
   "metadata": {
    "exerciseId": "zMSWOKPCWZ",
    "important": false,
    "isDL": false,
    "timeoutSecs": 10,
    "type": "quiz_session_name"
   },
   "source": [
    "### 1.4.1 バリデーションの作成"
   ]
  },
  {
   "cell_type": "markdown",
   "metadata": {
    "type": "description"
   },
   "source": [
    "前処理を行ったデータを用いて予測モデルの作成を行います。\n",
    "\n",
    "モデルの作成に取り掛かる前に、データを訓練用データと評価用データ(バリデーションデータ)に分割します。\n",
    "\n",
    "データを分割する主な理由は、作成したモデルの汎化性能を正しく評価し、モデルの改善につなげるためです。\n",
    "\n",
    "汎化性能とは、未知のデータに対する予測能力のことを指します。\n",
    "\n",
    "データの分割方法には、いくつか方法があるため、EDAを通してデータの性質を理解し適切な方法を選ぶことが必要です。\n",
    "\n",
    "以下では、主なバリデーションデータの分割手法について簡潔に説明します。\n",
    "\n",
    "- hold-out法<br>\n",
    "最も単純な分割方法です。学習データを訓練用データと評価用データに分割します。<br>\n",
    "訓練データでモデルを作成後、評価用データを用いてモデルを評価します。\n",
    "\n",
    "- cross validation (k-fold)<br>\n",
    "hold-out法を複数回繰り返すことで、訓練データに用いるデータ量を保ちつつ、データ全体を評価に用いることができます。<br>\n",
    "hold-out法を繰り返回数は、回数を増やすほど学習データの量を確保できるため、全てのデータを学習させた場合に近い評価をすることができますが、その分計算時間も増加します。<br>\n",
    "繰り返し回数は一般的に5回前後で設定される場合が多いです。\n",
    "\n",
    "- stratified k-fold<br>\n",
    "分類タスクの場合に、訓練用データと評価用データに含まれるクラスの割合が等しくなるように層化抽出(stratified sampling)を行う分割方法です。<br>\n",
    "これは、テストデータに含まれる各クラスの割合は学習データに含まれる割合と同じであるという仮定の下で、評価データをなるべくテストデータに近いものにし正しく評価する目的で利用されます。\n",
    "\n",
    "- group k-fold<br>\n",
    "ゲームのログデータや購買履歴のデータなどでは、顧客単位でデータを分割することができます。これは、他の顧客のデータのみを利用して新たな顧客を予測したい場合などに用いられます。<br>\n",
    "具体的には、テストデータにしか登場しない顧客が存在する場合、上記のような問題設定にしてモデルを作成し、未知の顧客に対しても正しく予測させる場合などがあります。\n",
    "\n",
    "今回は、1.3.1で確認したように含まれている正解ラベル間で数が異なるため stratified k-fold を採用してバリデーションデータを作成します。"
   ]
  },
  {
   "cell_type": "markdown",
   "metadata": {},
   "source": [
    "#### 問題"
   ]
  },
  {
   "cell_type": "markdown",
   "metadata": {
    "type": "question"
   },
   "source": [
    "下記のコードは穴埋めになっています。<br>\n",
    "必要なコードを追記し、<a href='https://www.kaggle.com/c/digit-recognizer' target='_blank'>kaggle</a>上で実行できましたか？<br>\n",
    "\n",
    "```Python\n",
    "# データをstratified k-fold(k=5)で分割してください\n",
    "\n",
    "from sklearn.model_selection import StratifiedKFold\n",
    "\n",
    "# StratifiedKFoldを実行する\n",
    "# StratifiedKFoldは各foldの目的変数のラベルの分布が均等になるように分割を行う\n",
    "# folds = [[fold0のtrainのindexのlist, fold0のvalidのindexのlist], ..., [fold4のtrainのindexのlist, fold4のvalidのindexのlist]]\n",
    "\n",
    "folds = list(\n",
    "    StratifiedKFold(\n",
    "    # 分割するfoldの数\n",
    "    n_splits= ,  \n",
    "    # indexの並びをshuffleするか\n",
    "    shuffle=True, \n",
    "    # 乱数シードの指定\n",
    "    random_state=42,\n",
    "    ).split(\n",
    "    # 説明変数の指定\n",
    "    X= , \n",
    "    # 目的変数の指定\n",
    "    y= , \n",
    "    ))\n",
    "\n",
    "print(\"fold 0 train index\", folds[0][0])\n",
    "print(\"fold 0 valid index\", folds[0][1])\n",
    "```"
   ]
  },
  {
   "cell_type": "markdown",
   "metadata": {
    "type": "choices"
   },
   "source": [
    "- はい\n",
    "- いいえ"
   ]
  },
  {
   "cell_type": "markdown",
   "metadata": {},
   "source": [
    "#### ヒント"
   ]
  },
  {
   "cell_type": "markdown",
   "metadata": {
    "type": "hint"
   },
   "source": [
    "- わからない場合のみ、以下をお読みください。\n",
    "\n",
    "```Python\n",
    "from sklearn.model_selection import StratifiedKFold\n",
    "\n",
    "# StratifiedKFoldを実行する\n",
    "# StratifiedKFoldは各foldの目的変数のラベルの分布が均等になるように分割を行う\n",
    "# folds = [[fold0のtrainのindexのlist, fold0のvalidのindexのlist], ..., [fold4のtrainのindexのlist, fold4のvalidのindexのlist]]\n",
    "\n",
    "folds = list(\n",
    "    StratifiedKFold(\n",
    "    # 分割するfoldの数\n",
    "    n_splits=5,  \n",
    "    # indexの並びをshuffleするか\n",
    "    shuffle=True, \n",
    "    # 乱数シードの指定\n",
    "    random_state=42,\n",
    "    ).split(\n",
    "    # 説明変数の指定\n",
    "    X=train_df[col_X], \n",
    "    # 目的変数の指定\n",
    "    y=train_df[col_Y], \n",
    "    ))\n",
    "\n",
    "print(\"fold 0 train index\", folds[0][0])\n",
    "print(\"fold 0 valid index\", folds[0][1])\n",
    "```"
   ]
  },
  {
   "cell_type": "markdown",
   "metadata": {},
   "source": [
    "#### 解答"
   ]
  },
  {
   "cell_type": "markdown",
   "metadata": {
    "type": "answer"
   },
   "source": [
    "- はい"
   ]
  },
  {
   "cell_type": "markdown",
   "metadata": {},
   "source": [
    "***"
   ]
  },
  {
   "cell_type": "markdown",
   "metadata": {
    "exerciseId": "VYcGn1fPhh2",
    "important": false,
    "isDL": false,
    "timeoutSecs": 10,
    "type": "quiz_session_name"
   },
   "source": [
    "### 1.4.2 ロジスティック回帰を用いた予測"
   ]
  },
  {
   "cell_type": "markdown",
   "metadata": {
    "type": "description"
   },
   "source": [
    "先ほど作成したバリデーションを用いて予測モデルを作成します。<br>\n",
    "今回のモデルは、ロジスティック回帰を使用します。<br>\n",
    "ロジスティック回帰の詳細な説明は、<a href='/courses/5020' target='_blank'>教師あり学習（分類）</a>などを参照してください。"
   ]
  },
  {
   "cell_type": "markdown",
   "metadata": {},
   "source": [
    "#### 問題"
   ]
  },
  {
   "cell_type": "markdown",
   "metadata": {
    "type": "question"
   },
   "source": [
    "下記のコードは穴埋めになっています。<br>\n",
    "必要なコードを追記し、<a href='https://www.kaggle.com/c/digit-recognizer' target='_blank'>kaggle</a>上で実行できましたか？<br>\n",
    "\n",
    "```Python\n",
    "from sklearn.linear_model import LogisticRegression\n",
    "\n",
    "# 各fold毎に処理を行う\n",
    "for (train_index, valid_index) in folds: \n",
    "    # 学習に用いる説明変数を抽出\n",
    "    X_train = \n",
    "    # 検証に用いる説明変数を抽出\n",
    "    X_valid = \n",
    "    # 学習に持ちいる目的変数を抽出\n",
    "    Y_train = \n",
    "    # 検証に用いる目的変数を抽出\n",
    "    Y_valid = \n",
    "    # 予測結果を記録する変数\n",
    "    Y_pred = np.zeros([len(train_df)]) \n",
    "    \n",
    "    print(X_train.shape, Y_train.shape)\n",
    "    print(X_valid.shape, Y_valid.shape)\n",
    "    # モデルの作成\n",
    "    logreg = LogisticRegression()\n",
    "    # モデルの学習\n",
    "    logreg.fit(X_train, Y_train) \n",
    "    # 検証データに対する予測\n",
    "    Y_pred[valid_index] = logreg.predict(X_valid) \n",
    "\n",
    "print(\"fold 0 valid index\", folds[0][1])\n",
    "# 精度を計算\n",
    "acc = (train_df[col_Y]==Y_pred).mean()\n",
    "print(acc)\n",
    "```"
   ]
  },
  {
   "cell_type": "markdown",
   "metadata": {
    "type": "choices"
   },
   "source": [
    "- はい\n",
    "- いいえ"
   ]
  },
  {
   "cell_type": "markdown",
   "metadata": {},
   "source": [
    "#### ヒント"
   ]
  },
  {
   "cell_type": "markdown",
   "metadata": {
    "type": "hint"
   },
   "source": [
    "- わからない場合のみ、以下をお読みください。\n",
    "\n",
    "```Python\n",
    "from sklearn.linear_model import LogisticRegression\n",
    "\n",
    "# 各fold毎に処理を行う\n",
    "for (train_index, valid_index) in folds: \n",
    "    # 学習に用いる説明変数を抽出\n",
    "    X_train = train_df[col_X].values[train_index] \n",
    "    # 検証に用いる説明変数を抽出\n",
    "    X_valid = train_df[col_X].values[valid_index] \n",
    "    # 学習に持ちいる目的変数を抽出\n",
    "    Y_train = train_df[col_Y].values[train_index] \n",
    "    # 検証に用いる目的変数を抽出\n",
    "    Y_valid = train_df[col_Y].values[valid_index] \n",
    "    # 予測結果を記録する変数\n",
    "    Y_pred = np.zeros([len(train_df)]) \n",
    "    \n",
    "    print(X_train.shape, Y_train.shape)\n",
    "    print(X_valid.shape, Y_valid.shape)\n",
    "    # モデルの作成\n",
    "    logreg = LogisticRegression()\n",
    "    # モデルの学習\n",
    "    logreg.fit(X_train, Y_train) \n",
    "    # 検証データに対する予測\n",
    "    Y_pred[valid_index] = logreg.predict(X_valid) \n",
    "\n",
    "print(\"fold 0 valid index\", folds[0][1])\n",
    "# 精度を計算\n",
    "acc = (train_df[col_Y]==Y_pred).mean()\n",
    "print(acc)\n",
    "```"
   ]
  },
  {
   "cell_type": "markdown",
   "metadata": {},
   "source": [
    "#### 解答"
   ]
  },
  {
   "cell_type": "markdown",
   "metadata": {
    "type": "answer"
   },
   "source": [
    "- はい"
   ]
  },
  {
   "cell_type": "markdown",
   "metadata": {},
   "source": [
    "***"
   ]
  },
  {
   "cell_type": "markdown",
   "metadata": {
    "exerciseId": "lhmajUimrwE",
    "important": false,
    "isDL": false,
    "timeoutSecs": 10,
    "type": "quiz_session_name"
   },
   "source": [
    "### 1.4.3 ランダムフォレストを用いた予測"
   ]
  },
  {
   "cell_type": "markdown",
   "metadata": {
    "type": "description"
   },
   "source": [
    "ロジスティック回帰とは別のアプローチとしてランダムフォレストを用いて予測モデルを作成します。<br>\n",
    "ランダムフォレストの詳細な説明は、<a href='/courses/5020' target='_blank'>教師あり学習（分類）</a>などを参照してください。<br>\n",
    "また、余力のある方は、1.4.2で作成したロジスティック回帰のモデルや、今回作成するランダムフォレストのパラメーターチューニングなどを行い精度向上に挑戦してみてください。"
   ]
  },
  {
   "cell_type": "markdown",
   "metadata": {},
   "source": [
    "#### 問題"
   ]
  },
  {
   "cell_type": "markdown",
   "metadata": {
    "type": "question"
   },
   "source": [
    "下記のコードは穴埋めになっています。<br>\n",
    "必要なコードを追記し、<a href='https://www.kaggle.com/c/digit-recognizer' target='_blank'>kaggle</a>上で実行できましたか？<br>\n",
    "\n",
    "```Python\n",
    "from sklearn.ensemble import RandomForestClassifier\n",
    "\n",
    "# 各fold毎に処理を行う\n",
    "for (train_index, valid_index) in folds:\n",
    "    # 学習に用いる説明変数を抽出\n",
    "    X_train = \n",
    "    # 検証に用いる説明変数を抽出\n",
    "    X_valid = \n",
    "    # 学習に持ちいる目的変数を抽出\n",
    "    Y_train = \n",
    "    # 検証に用いる目的変数を抽出\n",
    "    Y_valid = \n",
    "    # 予測結果を記録する変数\n",
    "    Y_pred = \n",
    "    \n",
    "    print(X_train.shape, Y_train.shape)\n",
    "    print(X_valid.shape, Y_valid.shape)\n",
    "    \n",
    "    # モデルの作成\n",
    "    rf = RandomForestClassifier(n_estimators=500)\n",
    "    # モデルの学習\n",
    "    rf.fit(X_train, Y_train)\n",
    "    # 検証データに対する予測\n",
    "    Y_pred[valid_index] = rf.predict(X_valid)\n",
    "\n",
    "# 精度を計算\n",
    "acc = \n",
    "print(acc)\n",
    "```"
   ]
  },
  {
   "cell_type": "markdown",
   "metadata": {
    "type": "choices"
   },
   "source": [
    "- はい\n",
    "- いいえ"
   ]
  },
  {
   "cell_type": "markdown",
   "metadata": {},
   "source": [
    "#### ヒント"
   ]
  },
  {
   "cell_type": "markdown",
   "metadata": {
    "type": "hint"
   },
   "source": [
    "- わからない場合のみ、以下をお読みください。\n",
    "\n",
    "```Python\n",
    "from sklearn.ensemble import RandomForestClassifier\n",
    "\n",
    "# 各fold毎に処理を行う\n",
    "for (train_index, valid_index) in folds:\n",
    "    # 学習に用いる説明変数を抽出\n",
    "    X_train = train_df[col_X].values[train_index] \n",
    "    # 検証に用いる説明変数を抽出\n",
    "    X_valid = train_df[col_X].values[valid_index] \n",
    "    # 学習に持ちいる目的変数を抽出\n",
    "    Y_train = train_df[col_Y].values[train_index] \n",
    "    # 検証に用いる目的変数を抽出\n",
    "    Y_valid = train_df[col_Y].values[valid_index] \n",
    "    # 予測結果を記録する変数\n",
    "    Y_pred = np.zeros([len(train_df)])\n",
    "    \n",
    "    print(X_train.shape, Y_train.shape)\n",
    "    print(X_valid.shape, Y_valid.shape)\n",
    "    \n",
    "    # モデルの作成\n",
    "    rf = RandomForestClassifier(n_estimators=500)\n",
    "    # モデルの学習\n",
    "    rf.fit(X_train, Y_train)\n",
    "    # 検証データに対する予測\n",
    "    Y_pred[valid_index] = rf.predict(X_valid)\n",
    "\n",
    "# 精度を計算\n",
    "acc = (train_df[col_Y]==Y_pred).mean()\n",
    "print(acc)\n",
    "```"
   ]
  },
  {
   "cell_type": "markdown",
   "metadata": {},
   "source": [
    "#### 解答"
   ]
  },
  {
   "cell_type": "markdown",
   "metadata": {
    "type": "answer"
   },
   "source": [
    "- はい"
   ]
  },
  {
   "cell_type": "markdown",
   "metadata": {
    "type": "chapter_exam"
   },
   "source": [
    "##  1.5 まとめ問題（提出不要）"
   ]
  },
  {
   "cell_type": "markdown",
   "metadata": {
    "type": "description"
   },
   "source": [
    "ここのまとめ問題(提出不要)は無視してください。"
   ]
  },
  {
   "cell_type": "markdown",
   "metadata": {},
   "source": [
    "#### 問題"
   ]
  },
  {
   "cell_type": "markdown",
   "metadata": {
    "type": "question"
   },
   "source": [
    "問題文"
   ]
  },
  {
   "cell_type": "code",
   "execution_count": null,
   "metadata": {
    "type": "index"
   },
   "outputs": [],
   "source": [
    "# 問題コード"
   ]
  },
  {
   "cell_type": "markdown",
   "metadata": {},
   "source": [
    "#### ヒント"
   ]
  },
  {
   "cell_type": "markdown",
   "metadata": {
    "type": "hint"
   },
   "source": []
  },
  {
   "cell_type": "markdown",
   "metadata": {},
   "source": [
    "#### 解答例"
   ]
  },
  {
   "cell_type": "code",
   "execution_count": null,
   "metadata": {
    "type": "answer"
   },
   "outputs": [],
   "source": [
    "# 解答コード"
   ]
  },
  {
   "cell_type": "markdown",
   "metadata": {
    "type": "commentary"
   },
   "source": [
    "解説を書く。"
   ]
  },
  {
   "cell_type": "markdown",
   "metadata": {},
   "source": [
    "***"
   ]
  }
 ],
 "metadata": {
  "celltoolbar": "Edit Metadata",
  "kernelspec": {
   "display_name": "Python 3",
   "language": "python",
   "name": "python3"
  },
  "language_info": {
   "codemirror_mode": {
    "name": "ipython",
    "version": 3
   },
   "file_extension": ".py",
   "mimetype": "text/x-python",
   "name": "python",
   "nbconvert_exporter": "python",
   "pygments_lexer": "ipython3",
   "version": "3.8.5"
  },
  "toc": {
   "base_numbering": 1,
   "nav_menu": {},
   "number_sections": true,
   "sideBar": true,
   "skip_h1_title": false,
   "title_cell": "Table of Contents",
   "title_sidebar": "Contents",
   "toc_cell": false,
   "toc_position": {
    "height": "593px",
    "left": "23px",
    "top": "110.5px",
    "width": "261.188px"
   },
   "toc_section_display": true,
   "toc_window_display": true
  }
 },
 "nbformat": 4,
 "nbformat_minor": 4
}
